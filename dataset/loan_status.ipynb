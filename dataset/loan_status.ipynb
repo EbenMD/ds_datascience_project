{
 "cells": [
  {
   "cell_type": "markdown",
   "id": "5ec35c24-53d4-4cd9-bc82-46f69cb8ab37",
   "metadata": {},
   "source": [
    "# Import Required Libraries"
   ]
  },
  {
   "cell_type": "code",
   "execution_count": 2,
   "id": "0ced5e24-a01a-4ac0-b273-f7f83a8abbb0",
   "metadata": {},
   "outputs": [],
   "source": [
    "# Data Manipulation\n",
    "import pandas as pd\n",
    "import numpy as np\n",
    "\n",
    "# Visualization\n",
    "import seaborn as sns\n",
    "import matplotlib.pyplot as plt\n",
    "\n",
    "# Suppress warnings\n",
    "import warnings\n",
    "warnings.filterwarnings(\"ignore\")\n",
    "\n",
    "# Machine Learning\n",
    "from sklearn.model_selection import train_test_split\n",
    "from sklearn.preprocessing import LabelEncoder, StandardScaler\n",
    "from sklearn.ensemble import RandomForestClassifier\n",
    "from sklearn.metrics import classification_report, confusion_matrix, accuracy_score, roc_auc_score\n",
    "from sklearn.impute import SimpleImputer\n",
    "from flask import Flask, request, jsonify\n",
    "from sklearn.metrics import accuracy_score\n",
    "from sklearn.linear_model import LogisticRegression\n",
    "from sklearn.feature_extraction import DictVectorizer\n",
    "from xgboost import XGBClassifier\n",
    "from sklearn.metrics import precision_score, recall_score, f1_score"
   ]
  },
  {
   "cell_type": "markdown",
   "id": "695cda68-d0c3-44aa-9641-faebde4550ce",
   "metadata": {},
   "source": [
    "# Load and Inspect the Dataset"
   ]
  },
  {
   "cell_type": "code",
   "execution_count": 3,
   "id": "86b041ca-2b00-4224-b338-b473373d4e8c",
   "metadata": {},
   "outputs": [],
   "source": [
    "# Load dataset\n",
    "data = pd.read_csv('loan_data.csv')"
   ]
  },
  {
   "cell_type": "markdown",
   "id": "de49aef2-63cc-4b5e-9a84-f63d78ffe072",
   "metadata": {},
   "source": [
    "### Display basic information"
   ]
  },
  {
   "cell_type": "code",
   "execution_count": 15,
   "id": "ab56cd99-a1b6-41db-8dc3-76e2628048ef",
   "metadata": {},
   "outputs": [
    {
     "name": "stdout",
     "output_type": "stream",
     "text": [
      "    Loan_ID  ApplicantIncome  CoapplicantIncome  LoanAmount  Loan_Amount_Term  \\\n",
      "0  LP001003         0.707469           0.098695    0.812575             360.0   \n",
      "1  LP001005        -0.408932          -0.546371   -1.376596             360.0   \n",
      "2  LP001006        -0.703019           0.462294    0.530102             360.0   \n",
      "3  LP001008         1.706799          -0.546371    1.271595             360.0   \n",
      "4  LP001013        -0.879330           0.102118   -0.352629             360.0   \n",
      "\n",
      "   Credit_History  Loan_Status  Gender_Male  Married_Yes  Dependents_1  \\\n",
      "0             1.0            0         True         True          True   \n",
      "1             1.0            1         True         True         False   \n",
      "2             1.0            1         True         True         False   \n",
      "3             1.0            1         True        False         False   \n",
      "4             1.0            1         True         True         False   \n",
      "\n",
      "   Dependents_2  Dependents_3+  Education_Not Graduate  Self_Employed_Yes  \\\n",
      "0         False          False                   False              False   \n",
      "1         False          False                   False               True   \n",
      "2         False          False                    True              False   \n",
      "3         False          False                   False              False   \n",
      "4         False          False                    True              False   \n",
      "\n",
      "   Property_Area_Semiurban  Property_Area_Urban  \n",
      "0                    False                False  \n",
      "1                    False                 True  \n",
      "2                    False                 True  \n",
      "3                    False                 True  \n",
      "4                    False                 True  \n"
     ]
    }
   ],
   "source": [
    "print(data.head())"
   ]
  },
  {
   "cell_type": "code",
   "execution_count": 16,
   "id": "eac81473-a36e-4cdc-8e7b-9ecb3042a050",
   "metadata": {},
   "outputs": [
    {
     "name": "stdout",
     "output_type": "stream",
     "text": [
      "<class 'pandas.core.frame.DataFrame'>\n",
      "RangeIndex: 381 entries, 0 to 380\n",
      "Data columns (total 16 columns):\n",
      " #   Column                   Non-Null Count  Dtype  \n",
      "---  ------                   --------------  -----  \n",
      " 0   Loan_ID                  381 non-null    object \n",
      " 1   ApplicantIncome          381 non-null    float64\n",
      " 2   CoapplicantIncome        381 non-null    float64\n",
      " 3   LoanAmount               381 non-null    float64\n",
      " 4   Loan_Amount_Term         381 non-null    float64\n",
      " 5   Credit_History           381 non-null    float64\n",
      " 6   Loan_Status              381 non-null    int64  \n",
      " 7   Gender_Male              381 non-null    bool   \n",
      " 8   Married_Yes              381 non-null    bool   \n",
      " 9   Dependents_1             381 non-null    bool   \n",
      " 10  Dependents_2             381 non-null    bool   \n",
      " 11  Dependents_3+            381 non-null    bool   \n",
      " 12  Education_Not Graduate   381 non-null    bool   \n",
      " 13  Self_Employed_Yes        381 non-null    bool   \n",
      " 14  Property_Area_Semiurban  381 non-null    bool   \n",
      " 15  Property_Area_Urban      381 non-null    bool   \n",
      "dtypes: bool(9), float64(5), int64(1), object(1)\n",
      "memory usage: 24.3+ KB\n",
      "None\n"
     ]
    }
   ],
   "source": [
    "print(data.info())"
   ]
  },
  {
   "cell_type": "code",
   "execution_count": 17,
   "id": "1247071c-22a1-4b9d-8c7a-13be934c1734",
   "metadata": {},
   "outputs": [
    {
     "name": "stdout",
     "output_type": "stream",
     "text": [
      "       ApplicantIncome  CoapplicantIncome    LoanAmount  Loan_Amount_Term  \\\n",
      "count     3.810000e+02       3.810000e+02  3.810000e+02        381.000000   \n",
      "mean      1.282147e-16      -3.963001e-17 -1.049030e-16        341.417323   \n",
      "std       1.001315e+00       1.001315e+00  1.001315e+00         67.625957   \n",
      "min      -2.418877e+00      -5.463709e-01 -3.389221e+00         12.000000   \n",
      "25%      -6.910297e-01      -5.463709e-01 -5.291748e-01        360.000000   \n",
      "50%      -1.740860e-01      -1.258801e-01  1.770094e-01        360.000000   \n",
      "75%       4.994218e-01       3.159989e-01  7.772660e-01        360.000000   \n",
      "max       4.318317e+00       1.392784e+01  1.589378e+00        480.000000   \n",
      "\n",
      "       Credit_History  Loan_Status  \n",
      "count      381.000000   381.000000  \n",
      "mean         0.850394     0.711286  \n",
      "std          0.357154     0.453761  \n",
      "min          0.000000     0.000000  \n",
      "25%          1.000000     0.000000  \n",
      "50%          1.000000     1.000000  \n",
      "75%          1.000000     1.000000  \n",
      "max          1.000000     1.000000  \n"
     ]
    }
   ],
   "source": [
    "print(data.describe())"
   ]
  },
  {
   "cell_type": "code",
   "execution_count": 18,
   "id": "9b2389d9-765e-47d7-b5b3-c48d3c3931b0",
   "metadata": {},
   "outputs": [
    {
     "name": "stdout",
     "output_type": "stream",
     "text": [
      "Loan_ID                    0\n",
      "ApplicantIncome            0\n",
      "CoapplicantIncome          0\n",
      "LoanAmount                 0\n",
      "Loan_Amount_Term           0\n",
      "Credit_History             0\n",
      "Loan_Status                0\n",
      "Gender_Male                0\n",
      "Married_Yes                0\n",
      "Dependents_1               0\n",
      "Dependents_2               0\n",
      "Dependents_3+              0\n",
      "Education_Not Graduate     0\n",
      "Self_Employed_Yes          0\n",
      "Property_Area_Semiurban    0\n",
      "Property_Area_Urban        0\n",
      "dtype: int64\n"
     ]
    }
   ],
   "source": [
    "print(data.isnull().sum())"
   ]
  },
  {
   "cell_type": "markdown",
   "id": "b29c1a8c-28ef-4d4a-8a4c-5f59492e9254",
   "metadata": {},
   "source": [
    "# Data Preprocessing\n",
    "- Handle Missing Values\n",
    "- Encode Categorical Variables\n",
    "- Feature Scaling\n",
    "- Split Dataset"
   ]
  },
  {
   "cell_type": "code",
   "execution_count": 5,
   "id": "0027d11c-524d-4dca-a6d1-fb5b3feb267c",
   "metadata": {},
   "outputs": [],
   "source": [
    "# Fill missing categorical values with mode\n",
    "for column in ['Gender', 'Married', 'Dependents', 'Self_Employed']:\n",
    "    data[column].fillna(data[column].mode()[0], inplace=True)"
   ]
  },
  {
   "cell_type": "code",
   "execution_count": 6,
   "id": "50c375f4-a2a5-4cf5-bbff-0c27e40baa10",
   "metadata": {},
   "outputs": [],
   "source": [
    "# Fill missing numerical values with median\n",
    "data['LoanAmount'].fillna(data['LoanAmount'].median(), inplace=True)\n",
    "data['Loan_Amount_Term'].fillna(data['Loan_Amount_Term'].median(), inplace=True)"
   ]
  },
  {
   "cell_type": "code",
   "execution_count": 7,
   "id": "561b7917-7722-437c-9b25-57ef8db96e61",
   "metadata": {},
   "outputs": [],
   "source": [
    "# Fill missing Credit_History with mode\n",
    "data['Credit_History'].fillna(data['Credit_History'].mode()[0], inplace=True)"
   ]
  },
  {
   "cell_type": "code",
   "execution_count": 8,
   "id": "c2b9d09b-19e2-451e-8fbf-59634c327719",
   "metadata": {},
   "outputs": [
    {
     "name": "stdout",
     "output_type": "stream",
     "text": [
      "Loan_ID              0\n",
      "Gender               0\n",
      "Married              0\n",
      "Dependents           0\n",
      "Education            0\n",
      "Self_Employed        0\n",
      "ApplicantIncome      0\n",
      "CoapplicantIncome    0\n",
      "LoanAmount           0\n",
      "Loan_Amount_Term     0\n",
      "Credit_History       0\n",
      "Property_Area        0\n",
      "Loan_Status          0\n",
      "dtype: int64\n"
     ]
    }
   ],
   "source": [
    "# Confirm missing values handled\n",
    "print(data.isnull().sum())"
   ]
  },
  {
   "cell_type": "markdown",
   "id": "18f30c5d-efb6-4de0-8e15-d0815d713d5b",
   "metadata": {},
   "source": [
    "### Encode Categorical Variables"
   ]
  },
  {
   "cell_type": "code",
   "execution_count": 9,
   "id": "b4eeda38-c3f5-449e-abf7-ad1c69efc264",
   "metadata": {},
   "outputs": [],
   "source": [
    "# Encode target variable\n",
    "data['Loan_Status'] = data['Loan_Status'].map({'Y': 1, 'N': 0})"
   ]
  },
  {
   "cell_type": "code",
   "execution_count": 10,
   "id": "ea7fa8c9-7ff9-42d8-9dac-ef133c4c94bf",
   "metadata": {},
   "outputs": [
    {
     "name": "stdout",
     "output_type": "stream",
     "text": [
      "    Loan_ID  ApplicantIncome  CoapplicantIncome  LoanAmount  Loan_Amount_Term  \\\n",
      "0  LP001003             4583             1508.0         128             360.0   \n",
      "1  LP001005             3000                0.0          66             360.0   \n",
      "2  LP001006             2583             2358.0         120             360.0   \n",
      "3  LP001008             6000                0.0         141             360.0   \n",
      "4  LP001013             2333             1516.0          95             360.0   \n",
      "\n",
      "   Credit_History  Loan_Status  Gender_Male  Married_Yes  Dependents_1  \\\n",
      "0             1.0            0         True         True          True   \n",
      "1             1.0            1         True         True         False   \n",
      "2             1.0            1         True         True         False   \n",
      "3             1.0            1         True        False         False   \n",
      "4             1.0            1         True         True         False   \n",
      "\n",
      "   Dependents_2  Dependents_3+  Education_Not Graduate  Self_Employed_Yes  \\\n",
      "0         False          False                   False              False   \n",
      "1         False          False                   False               True   \n",
      "2         False          False                    True              False   \n",
      "3         False          False                   False              False   \n",
      "4         False          False                    True              False   \n",
      "\n",
      "   Property_Area_Semiurban  Property_Area_Urban  \n",
      "0                    False                False  \n",
      "1                    False                 True  \n",
      "2                    False                 True  \n",
      "3                    False                 True  \n",
      "4                    False                 True  \n"
     ]
    }
   ],
   "source": [
    "# Encode other categorical variables\n",
    "categorical_cols = ['Gender', 'Married', 'Dependents', 'Education', 'Self_Employed', 'Property_Area']\n",
    "data = pd.get_dummies(data, columns=categorical_cols, drop_first=True)\n",
    "\n",
    "print(data.head())"
   ]
  },
  {
   "cell_type": "markdown",
   "id": "81541d6a-da2e-4122-98a8-5170b0228816",
   "metadata": {},
   "source": [
    "### Feature Scaling"
   ]
  },
  {
   "cell_type": "code",
   "execution_count": 11,
   "id": "59969495-327a-4176-b17b-fb137d9410e0",
   "metadata": {},
   "outputs": [],
   "source": [
    "# Scale numerical features\n",
    "scaler = StandardScaler()\n",
    "data[['ApplicantIncome', 'CoapplicantIncome', 'LoanAmount']] = scaler.fit_transform(data[['ApplicantIncome', 'CoapplicantIncome', 'LoanAmount']])"
   ]
  },
  {
   "cell_type": "markdown",
   "id": "b6110e1c-76ba-4eec-adb8-918f22b80c66",
   "metadata": {},
   "source": [
    "### Split Dataset"
   ]
  },
  {
   "cell_type": "code",
   "execution_count": 12,
   "id": "87855347-51f4-490e-bae8-002708344774",
   "metadata": {},
   "outputs": [],
   "source": [
    "# Define features and target\n",
    "X = data.drop(columns=['Loan_ID', 'Loan_Status'])\n",
    "y = data['Loan_Status']\n",
    "\n",
    "# Split into train-test sets\n",
    "X_train, X_test, y_train, y_test = train_test_split(X, y, test_size=0.2, random_state=42)"
   ]
  },
  {
   "cell_type": "markdown",
   "id": "796ab6e2-5f37-45df-9b37-e14452438989",
   "metadata": {},
   "source": [
    "# Train a Model"
   ]
  },
  {
   "cell_type": "code",
   "execution_count": 13,
   "id": "b20a3810-23f8-4296-bd05-586feef7a905",
   "metadata": {},
   "outputs": [],
   "source": [
    "# Train a Random Forest Classifier\n",
    "model = RandomForestClassifier(random_state=42)\n",
    "model.fit(X_train, y_train)\n",
    "\n",
    "# Make predictions\n",
    "y_pred = model.predict(X_test)"
   ]
  },
  {
   "cell_type": "markdown",
   "id": "5ab59035-32e1-4eac-a5d6-263e41503d38",
   "metadata": {},
   "source": [
    "# Evaluate the Model"
   ]
  },
  {
   "cell_type": "code",
   "execution_count": 14,
   "id": "546fd862-459f-40eb-a24d-57071e3c1e9f",
   "metadata": {},
   "outputs": [
    {
     "name": "stdout",
     "output_type": "stream",
     "text": [
      "Accuracy: 0.8051948051948052\n",
      "Classification Report:\n",
      "               precision    recall  f1-score   support\n",
      "\n",
      "           0       0.88      0.33      0.48        21\n",
      "           1       0.80      0.98      0.88        56\n",
      "\n",
      "    accuracy                           0.81        77\n",
      "   macro avg       0.84      0.66      0.68        77\n",
      "weighted avg       0.82      0.81      0.77        77\n",
      "\n",
      "Confusion Matrix:\n",
      " [[ 7 14]\n",
      " [ 1 55]]\n",
      "ROC AUC Score: 0.7827380952380952\n"
     ]
    }
   ],
   "source": [
    "# Evaluate performance\n",
    "print(\"Accuracy:\", accuracy_score(y_test, y_pred))\n",
    "print(\"Classification Report:\\n\", classification_report(y_test, y_pred))\n",
    "print(\"Confusion Matrix:\\n\", confusion_matrix(y_test, y_pred))\n",
    "print(\"ROC AUC Score:\", roc_auc_score(y_test, model.predict_proba(X_test)[:, 1]))"
   ]
  },
  {
   "cell_type": "code",
   "execution_count": null,
   "id": "18b91e4c-2e06-4d35-a495-98f3294f237a",
   "metadata": {},
   "outputs": [],
   "source": []
  }
 ],
 "metadata": {
  "kernelspec": {
   "display_name": "Python 3 (ipykernel)",
   "language": "python",
   "name": "python3"
  },
  "language_info": {
   "codemirror_mode": {
    "name": "ipython",
    "version": 3
   },
   "file_extension": ".py",
   "mimetype": "text/x-python",
   "name": "python",
   "nbconvert_exporter": "python",
   "pygments_lexer": "ipython3",
   "version": "3.13.0"
  }
 },
 "nbformat": 4,
 "nbformat_minor": 5
}
